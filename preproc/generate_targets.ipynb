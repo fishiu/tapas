{
 "cells": [
  {
   "cell_type": "code",
   "execution_count": 1,
   "metadata": {
    "pycharm": {
     "name": "#%%\n"
    }
   },
   "outputs": [],
   "source": [
    "# import for data analysis\n",
    "from collections import Counter\n",
    "\n",
    "import pandas as pd\n",
    "import numpy as np\n",
    "import matplotlib.pyplot as plt"
   ]
  },
  {
   "cell_type": "markdown",
   "source": [
    "# generate table-3.csv"
   ],
   "metadata": {
    "collapsed": false,
    "pycharm": {
     "name": "#%% md\n"
    }
   }
  },
  {
   "cell_type": "code",
   "execution_count": null,
   "outputs": [],
   "source": [
    "axcell_papers = pd.read_csv('../axcell_meta/arxiv-papers.csv')\n",
    "axcell_papers[axcell_papers['tables'] == 3].to_csv('../axcell_meta/arxiv-papers-3tables.csv')"
   ],
   "metadata": {
    "collapsed": false,
    "pycharm": {
     "name": "#%%\n"
    }
   }
  },
  {
   "cell_type": "markdown",
   "source": [
    "# generate download target"
   ],
   "metadata": {
    "collapsed": false,
    "pycharm": {
     "name": "#%% md\n"
    }
   }
  },
  {
   "cell_type": "code",
   "execution_count": 2,
   "metadata": {
    "pycharm": {
     "name": "#%%\n"
    }
   },
   "outputs": [
    {
     "name": "stdout",
     "output_type": "stream",
     "text": [
      "1000/10790\n",
      "switch to file-1\n",
      "2000/10790\n",
      "switch to file-2\n",
      "3000/10790\n",
      "switch to file-3\n",
      "4000/10790\n",
      "switch to file-4\n",
      "5000/10790\n",
      "switch to file-5\n",
      "6000/10790\n",
      "switch to file-6\n",
      "7000/10790\n",
      "switch to file-7\n",
      "8000/10790\n",
      "switch to file-8\n",
      "9000/10790\n",
      "switch to file-9\n",
      "10000/10790\n",
      "switch to file-10\n"
     ]
    }
   ],
   "source": [
    "tables = pd.read_csv('../axcell_meta/arxiv-papers-3tables.csv')\n",
    "f = open('./targets-0.txt', 'w')\n",
    "for idx, arxiv_id in enumerate(tables['arxiv_id']):\n",
    "    url = f\"https://ar5iv.labs.arxiv.org/html/{arxiv_id}\"\n",
    "    f.write(f\"{url}\\n\")\n",
    "    idx += 1\n",
    "    if idx % 1000 == 0:\n",
    "        no = idx // 1000\n",
    "        print(f\"{idx}/{len(tables)}\")\n",
    "        print(f\"switch to file-{no}\")\n",
    "        f.close()\n",
    "        f = open(f\"./targets-{no}.txt\", 'w')\n",
    "f.close()"
   ]
  }
 ],
 "metadata": {
  "interpreter": {
   "hash": "14b24c916b1ac0a96be148d49376499f6c63580c0322500cf01fe5df95b32d09"
  },
  "kernelspec": {
   "display_name": "Python 3.7.10 ('data')",
   "language": "python",
   "name": "python3"
  },
  "language_info": {
   "codemirror_mode": {
    "name": "ipython",
    "version": 3
   },
   "file_extension": ".py",
   "mimetype": "text/x-python",
   "name": "python",
   "nbconvert_exporter": "python",
   "pygments_lexer": "ipython3",
   "version": "3.7.10"
  },
  "orig_nbformat": 4
 },
 "nbformat": 4,
 "nbformat_minor": 2
}