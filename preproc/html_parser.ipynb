{
 "cells": [
  {
   "cell_type": "markdown",
   "source": [
    "only for debug usage"
   ],
   "metadata": {
    "collapsed": false,
    "pycharm": {
     "name": "#%% md\n"
    }
   }
  },
  {
   "cell_type": "code",
   "execution_count": 26,
   "outputs": [],
   "source": [
    "import pandas as pd\n",
    "import pathlib\n",
    "import bs4\n",
    "from bs4 import BeautifulSoup as bs"
   ],
   "metadata": {
    "collapsed": false,
    "pycharm": {
     "name": "#%%\n"
    }
   }
  },
  {
   "cell_type": "code",
   "execution_count": 27,
   "outputs": [],
   "source": [
    "def clear_attr(soup):\n",
    "    for tag in soup.findAll(True):\n",
    "        if 'id' in tag.attrs:\n",
    "            del tag.attrs['id']\n",
    "        if 'class' in tag.attrs:\n",
    "            del tag.attrs['class']\n",
    "        # if tag.name == 'span':\n",
    "        #     tag.unwrap()\n",
    "    return soup"
   ],
   "metadata": {
    "collapsed": false,
    "pycharm": {
     "name": "#%%\n"
    }
   }
  },
  {
   "cell_type": "code",
   "execution_count": 28,
   "outputs": [],
   "source": [
    "html_file = pathlib.Path(\"/Users/leverest/Downloads/1507.04436.html\")\n",
    "with html_file.open(\"r\", encoding=\"utf-8\") as f:\n",
    "    soup = bs(f, \"html.parser\")\n",
    "tables = soup.find_all(\"table\", {'class': 'ltx_tabular'})"
   ],
   "metadata": {
    "collapsed": false,
    "pycharm": {
     "name": "#%%\n"
    }
   }
  },
  {
   "cell_type": "code",
   "execution_count": 29,
   "outputs": [],
   "source": [
    "def remove_thead(table: bs4.element.Tag):\n",
    "    body = table.find(\"tbody\")\n",
    "    if body is None:\n",
    "        return\n",
    "    table_heads = table.find_all(\"thead\")\n",
    "    if len(table_heads) > 0:  # thead exist\n",
    "        head = table_heads[0].extract()\n",
    "        head_rows = head.find_all(\"tr\")\n",
    "        if len(head_rows) == 0:\n",
    "            return\n",
    "        for row in head_rows[::-1]:\n",
    "            row = row.extract()\n",
    "            for th in row.find_all(\"th\"):\n",
    "                th.name = \"td\"\n",
    "            body.insert(0, row)\n",
    "    return table"
   ],
   "metadata": {
    "collapsed": false,
    "pycharm": {
     "name": "#%%\n"
    }
   }
  },
  {
   "cell_type": "code",
   "execution_count": 30,
   "outputs": [
    {
     "data": {
      "text/plain": "              0            1                         2  \\\n0     Algorithm      Measure  number of outlying slabs   \n1     Algorithm      Measure                         3   \n2          TALS     MSE (dB)                  -15.0081   \n3          TALS  TIME (sec.)                    0.0592   \n4         IRALS     MSE (dB)                  -30.4836   \n5         IRALS  TIME (sec.)                    0.1723   \n6  IRALS w./ nn     MSE (dB)                   -37.743   \n7  IRALS w./ nn  TIME (sec.)                    3.4883   \n\n                          3                         4  \\\n0  number of outlying slabs  number of outlying slabs   \n1                         5                         7   \n2                  -11.4041                   -9.4724   \n3                     0.063                    0.0635   \n4                  -31.3318                   -24.839   \n5                     0.217                    0.2349   \n6                  -40.8854                     -40.8   \n7                    4.5614                    5.3182   \n\n                          5                         6  \n0  number of outlying slabs  number of outlying slabs  \n1                         9                        11  \n2                   -8.4138                   -8.0331  \n3                    0.0681                    0.0718  \n4                  -23.3083                  -23.1527  \n5                    0.2474                    0.2461  \n6                  -40.4385                  -26.3071  \n7                    5.7222                    5.2961  ",
      "text/html": "<div>\n<style scoped>\n    .dataframe tbody tr th:only-of-type {\n        vertical-align: middle;\n    }\n\n    .dataframe tbody tr th {\n        vertical-align: top;\n    }\n\n    .dataframe thead th {\n        text-align: right;\n    }\n</style>\n<table border=\"1\" class=\"dataframe\">\n  <thead>\n    <tr style=\"text-align: right;\">\n      <th></th>\n      <th>0</th>\n      <th>1</th>\n      <th>2</th>\n      <th>3</th>\n      <th>4</th>\n      <th>5</th>\n      <th>6</th>\n    </tr>\n  </thead>\n  <tbody>\n    <tr>\n      <th>0</th>\n      <td>Algorithm</td>\n      <td>Measure</td>\n      <td>number of outlying slabs</td>\n      <td>number of outlying slabs</td>\n      <td>number of outlying slabs</td>\n      <td>number of outlying slabs</td>\n      <td>number of outlying slabs</td>\n    </tr>\n    <tr>\n      <th>1</th>\n      <td>Algorithm</td>\n      <td>Measure</td>\n      <td>3</td>\n      <td>5</td>\n      <td>7</td>\n      <td>9</td>\n      <td>11</td>\n    </tr>\n    <tr>\n      <th>2</th>\n      <td>TALS</td>\n      <td>MSE (dB)</td>\n      <td>-15.0081</td>\n      <td>-11.4041</td>\n      <td>-9.4724</td>\n      <td>-8.4138</td>\n      <td>-8.0331</td>\n    </tr>\n    <tr>\n      <th>3</th>\n      <td>TALS</td>\n      <td>TIME (sec.)</td>\n      <td>0.0592</td>\n      <td>0.063</td>\n      <td>0.0635</td>\n      <td>0.0681</td>\n      <td>0.0718</td>\n    </tr>\n    <tr>\n      <th>4</th>\n      <td>IRALS</td>\n      <td>MSE (dB)</td>\n      <td>-30.4836</td>\n      <td>-31.3318</td>\n      <td>-24.839</td>\n      <td>-23.3083</td>\n      <td>-23.1527</td>\n    </tr>\n    <tr>\n      <th>5</th>\n      <td>IRALS</td>\n      <td>TIME (sec.)</td>\n      <td>0.1723</td>\n      <td>0.217</td>\n      <td>0.2349</td>\n      <td>0.2474</td>\n      <td>0.2461</td>\n    </tr>\n    <tr>\n      <th>6</th>\n      <td>IRALS w./ nn</td>\n      <td>MSE (dB)</td>\n      <td>-37.743</td>\n      <td>-40.8854</td>\n      <td>-40.8</td>\n      <td>-40.4385</td>\n      <td>-26.3071</td>\n    </tr>\n    <tr>\n      <th>7</th>\n      <td>IRALS w./ nn</td>\n      <td>TIME (sec.)</td>\n      <td>3.4883</td>\n      <td>4.5614</td>\n      <td>5.3182</td>\n      <td>5.7222</td>\n      <td>5.2961</td>\n    </tr>\n  </tbody>\n</table>\n</div>"
     },
     "execution_count": 30,
     "metadata": {},
     "output_type": "execute_result"
    }
   ],
   "source": [
    "table1 = remove_thead(tables[1])\n",
    "pd.read_html(str(table1))[0]"
   ],
   "metadata": {
    "collapsed": false,
    "pycharm": {
     "name": "#%%\n"
    }
   }
  },
  {
   "cell_type": "code",
   "execution_count": null,
   "outputs": [],
   "source": [],
   "metadata": {
    "collapsed": false,
    "pycharm": {
     "name": "#%%\n"
    }
   }
  }
 ],
 "metadata": {
  "kernelspec": {
   "display_name": "Python 3",
   "language": "python",
   "name": "python3"
  },
  "language_info": {
   "codemirror_mode": {
    "name": "ipython",
    "version": 2
   },
   "file_extension": ".py",
   "mimetype": "text/x-python",
   "name": "python",
   "nbconvert_exporter": "python",
   "pygments_lexer": "ipython2",
   "version": "2.7.6"
  }
 },
 "nbformat": 4,
 "nbformat_minor": 0
}