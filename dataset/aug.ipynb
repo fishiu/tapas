{
 "cells": [
  {
   "cell_type": "code",
   "execution_count": null,
   "outputs": [],
   "source": [
    "import torch\n",
    "import re\n",
    "import argparse\n",
    "import logging\n",
    "import os\n",
    "import nlpaug.augmenter.word as naw\n",
    "\n",
    "import totto"
   ],
   "metadata": {
    "collapsed": false,
    "pycharm": {
     "name": "#%%\n"
    }
   }
  },
  {
   "cell_type": "code",
   "execution_count": null,
   "outputs": [],
   "source": [
    "def get_parser():\n",
    "    parser = argparse.ArgumentParser()\n",
    "\n",
    "    # I/O\n",
    "    parser.add_argument(\"--train_json\", type=str, default=\"data/pretrain/totto/totto_train_data.jsonl\")\n",
    "    parser.add_argument(\"--output_dir\", type=str, default=\"output/pretrain/0_demo\")\n",
    "    parser.add_argument(\"--device\", type=str, default=\"cuda:0\")\n",
    "    parser.add_argument(\"--report_step\", type=int, default=10)\n",
    "    parser.add_argument(\"--save_step\", type=int, default=1000)\n",
    "\n",
    "    # data\n",
    "    parser.add_argument(\"--max_title_length\", type=int, default=128)  # todo? table max len?\n",
    "\n",
    "    parser.add_argument(\"--table_model\", type=str, default=\"google/tapas-small\")\n",
    "    parser.add_argument(\"--text_model\", type=str, default=\"bert-base-uncased\")\n",
    "\n",
    "    # model\n",
    "    parser.add_argument(\"--uni_dim\", type=int, default=512, help=\"projection dim for both modality\")\n",
    "\n",
    "    # training\n",
    "    parser.add_argument(\"--epochs\", type=int, default=100)\n",
    "    parser.add_argument(\"--batch_size\", type=int, default=320)\n",
    "    parser.add_argument(\"--shuffle\", action=\"store_true\")\n",
    "    parser.add_argument(\"--lr\", type=float, default=1e-5)\n",
    "    parser.add_argument(\"--seed\", type=int, default=1107)\n",
    "\n",
    "    parser.add_argument(\"--debug\", action=\"store_true\")\n",
    "    return parser"
   ],
   "metadata": {
    "collapsed": false,
    "pycharm": {
     "name": "#%%\n"
    }
   }
  },
  {
   "cell_type": "code",
   "execution_count": null,
   "outputs": [],
   "source": [
    "logging.basicConfig(level=logging.INFO)\n",
    "parser = get_parser()\n",
    "args = parser.parse_args([\"--debug\", \"--train_json\", \"../data/pretrain/totto/totto_dev_data.jsonl\"])\n",
    "args"
   ],
   "metadata": {
    "collapsed": false,
    "pycharm": {
     "name": "#%%\n"
    }
   }
  },
  {
   "cell_type": "code",
   "execution_count": null,
   "outputs": [],
   "source": [
    "totto_dataset = totto.ToTToDataset(args.train_json, args)\n",
    "data0 = totto_dataset.data[0]\n",
    "data0.title"
   ],
   "metadata": {
    "collapsed": false,
    "pycharm": {
     "name": "#%%\n"
    }
   }
  },
  {
   "cell_type": "markdown",
   "source": [
    "bert context"
   ],
   "metadata": {
    "collapsed": false,
    "pycharm": {
     "name": "#%% md\n"
    }
   }
  },
  {
   "cell_type": "code",
   "execution_count": null,
   "outputs": [],
   "source": [
    "aug_ctx = naw.ContextualWordEmbsAug(model_path='bert-base-uncased', action=\"substitute\")\n",
    "augmented_text = aug_ctx.augment(data0.title)\n",
    "print(f\"original: {data0.title}\")\n",
    "print(f\"augmented: {augmented_text}\")"
   ],
   "metadata": {
    "collapsed": false,
    "pycharm": {
     "name": "#%%\n"
    }
   }
  },
  {
   "cell_type": "markdown",
   "source": [
    "word2vec"
   ],
   "metadata": {
    "collapsed": false,
    "pycharm": {
     "name": "#%% md\n"
    }
   }
  },
  {
   "cell_type": "code",
   "execution_count": null,
   "outputs": [],
   "source": [
    "# from nlpaug.util.file.download import DownloadUtil\n",
    "# DownloadUtil.download_fasttext(model_name='wiki-news-300d-1M', dest_dir='../data/model') # Download fasttext model\n",
    "# DownloadUtil.download_glove(model_name='glove.6B', dest_dir='../data/model')"
   ],
   "metadata": {
    "collapsed": false,
    "pycharm": {
     "name": "#%%\n"
    }
   }
  },
  {
   "cell_type": "code",
   "execution_count": null,
   "outputs": [],
   "source": [
    "# model_type: word2vec, glove or fasttext\n",
    "aug_w2v = naw.WordEmbsAug(\n",
    "    model_type='glove',\n",
    "    model_path='../data/model/glove.6B.300d.txt',\n",
    "    action=\"substitute\"\n",
    ")\n",
    "augmented_text = aug_w2v.augment(data0.title)\n",
    "print(f\"original: {data0.title}\")\n",
    "print(f\"augmented: {augmented_text}\")"
   ],
   "metadata": {
    "collapsed": false,
    "pycharm": {
     "name": "#%%\n"
    }
   }
  },
  {
   "cell_type": "code",
   "execution_count": null,
   "outputs": [],
   "source": [
    "aug_w2v.augment(\"Governors under the Constitution of 1868.\")"
   ],
   "metadata": {
    "collapsed": false,
    "pycharm": {
     "name": "#%%\n"
    }
   }
  },
  {
   "cell_type": "markdown",
   "source": [
    "translation"
   ],
   "metadata": {
    "collapsed": false,
    "pycharm": {
     "name": "#%% md\n"
    }
   }
  },
  {
   "cell_type": "code",
   "execution_count": null,
   "outputs": [],
   "source": [
    "aug_trans = naw.BackTranslationAug(\n",
    "    from_model_name='facebook/wmt19-en-de', \n",
    "    to_model_name='facebook/wmt19-de-en'\n",
    ")\n",
    "print(f\"original: {data0.title}\")\n",
    "aug_trans.augment(data0.title)"
   ],
   "metadata": {
    "collapsed": false,
    "pycharm": {
     "name": "#%%\n"
    }
   }
  },
  {
   "cell_type": "code",
   "execution_count": 2,
   "metadata": {
    "pycharm": {
     "name": "#%%\n"
    }
   },
   "outputs": [],
   "source": [
    "def get_parser():\n",
    "    parser = argparse.ArgumentParser()\n",
    "\n",
    "    # I/O\n",
    "    parser.add_argument(\"--train_json\", type=str, default=\"data/pretrain/totto/totto_train_data.jsonl\")\n",
    "    parser.add_argument(\"--output_dir\", type=str, default=\"output/pretrain/0_demo\")\n",
    "    parser.add_argument(\"--device\", type=str, default=\"cuda:0\")\n",
    "    parser.add_argument(\"--report_step\", type=int, default=10)\n",
    "    parser.add_argument(\"--save_step\", type=int, default=1000)\n",
    "\n",
    "    # data\n",
    "    parser.add_argument(\"--max_title_length\", type=int, default=128)  # todo? table max len?\n",
    "\n",
    "    parser.add_argument(\"--table_model\", type=str, default=\"google/tapas-small\")\n",
    "    parser.add_argument(\"--text_model\", type=str, default=\"bert-base-uncased\")\n",
    "\n",
    "    # model\n",
    "    parser.add_argument(\"--uni_dim\", type=int, default=512, help=\"projection dim for both modality\")\n",
    "\n",
    "    # training\n",
    "    parser.add_argument(\"--epochs\", type=int, default=100)\n",
    "    parser.add_argument(\"--batch_size\", type=int, default=320)\n",
    "    parser.add_argument(\"--shuffle\", action=\"store_true\")\n",
    "    parser.add_argument(\"--lr\", type=float, default=1e-5)\n",
    "    parser.add_argument(\"--seed\", type=int, default=1107)\n",
    "\n",
    "    parser.add_argument(\"--debug\", action=\"store_true\")\n",
    "    return parser"
   ]
  },
  {
   "cell_type": "code",
   "execution_count": 3,
   "metadata": {
    "pycharm": {
     "name": "#%%\n"
    }
   },
   "outputs": [
    {
     "data": {
      "text/plain": [
       "Namespace(batch_size=320, debug=True, device='cuda:0', epochs=100, lr=1e-05, max_title_length=128, output_dir='output/pretrain/0_demo', report_step=10, save_step=1000, seed=1107, shuffle=False, table_model='google/tapas-small', text_model='bert-base-uncased', train_json='../data/pretrain/totto/totto_dev_data.jsonl', uni_dim=512)"
      ]
     },
     "execution_count": 3,
     "metadata": {},
     "output_type": "execute_result"
    }
   ],
   "source": [
    "logging.basicConfig(level=logging.INFO)\n",
    "parser = get_parser()\n",
    "args = parser.parse_args([\"--debug\", \"--train_json\", \"../data/pretrain/totto/totto_dev_data.jsonl\"])\n",
    "args"
   ]
  },
  {
   "cell_type": "code",
   "execution_count": 4,
   "metadata": {
    "pycharm": {
     "name": "#%%\n"
    }
   },
   "outputs": [
    {
     "name": "stderr",
     "output_type": "stream",
     "text": [
      "INFO:root:read data from ../data/pretrain/totto/totto_dev_data.jsonl\n",
      "INFO:root:[('success', 1000), ('rpt set error', 110), ('row/col size > 256', 9), ('table length > 1280', 6)]\n"
     ]
    },
    {
     "data": {
      "text/plain": [
       "'List of Governors of South Carolina. Governors under the Constitution of 1868.'"
      ]
     },
     "execution_count": 4,
     "metadata": {},
     "output_type": "execute_result"
    }
   ],
   "source": [
    "totto_dataset = totto.ToTToDataset(args.train_json, args)\n",
    "data0 = totto_dataset.data[0]\n",
    "data0.title"
   ]
  },
  {
   "cell_type": "markdown",
   "metadata": {
    "pycharm": {
     "name": "#%% md\n"
    }
   },
   "source": [
    "bert context"
   ]
  },
  {
   "cell_type": "code",
   "execution_count": 5,
   "metadata": {
    "pycharm": {
     "name": "#%%\n"
    }
   },
   "outputs": [
    {
     "name": "stdout",
     "output_type": "stream",
     "text": [
      "original: List of Governors of South Carolina. Governors under the Constitution of 1868.\n",
      "augmented: and general governors of south sudanese. governors under state ordinance of 1868.\n"
     ]
    }
   ],
   "source": [
    "aug_ctx = naw.ContextualWordEmbsAug(model_path='bert-base-uncased', action=\"substitute\")\n",
    "augmented_text = aug_ctx.augment(data0.title)\n",
    "print(f\"original: {data0.title}\")\n",
    "print(f\"augmented: {augmented_text}\")"
   ]
  },
  {
   "cell_type": "markdown",
   "metadata": {
    "pycharm": {
     "name": "#%% md\n"
    }
   },
   "source": [
    "word2vec"
   ]
  },
  {
   "cell_type": "code",
   "execution_count": 6,
   "metadata": {
    "pycharm": {
     "name": "#%%\n"
    }
   },
   "outputs": [],
   "source": [
    "# from nlpaug.util.file.download import DownloadUtil\n",
    "# DownloadUtil.download_fasttext(model_name='wiki-news-300d-1M', dest_dir='../data/model') # Download fasttext model\n",
    "# DownloadUtil.download_glove(model_name='glove.6B', dest_dir='../data/model')"
   ]
  },
  {
   "cell_type": "code",
   "execution_count": 7,
   "metadata": {
    "pycharm": {
     "name": "#%%\n"
    }
   },
   "outputs": [
    {
     "name": "stderr",
     "output_type": "stream",
     "text": [
      "INFO:gensim.models.keyedvectors:loading projection weights from ../data/model/glove.6B.300d.txt\n",
      "INFO:gensim.utils:KeyedVectors lifecycle event {'msg': 'loaded (400000, 300) matrix of type float32 from ../data/model/glove.6B.300d.txt', 'binary': False, 'encoding': 'utf8', 'datetime': '2022-05-19T03:33:25.868601', 'gensim': '4.2.0', 'python': '3.8.13 (default, Mar 28 2022, 11:38:47) \\n[GCC 7.5.0]', 'platform': 'Linux-4.18.0-15-generic-x86_64-with-glibc2.17', 'event': 'load_word2vec_format'}\n"
     ]
    },
    {
     "name": "stdout",
     "output_type": "stream",
     "text": [
      "original: List of Governors of South Carolina. Governors under the Constitution of 1868.\n",
      "augmented: List which Governors well South Carolina. Governors administration three Constitution of 1904.\n"
     ]
    }
   ],
   "source": [
    "# model_type: word2vec, glove or fasttext\n",
    "aug_w2v = naw.WordEmbsAug(\n",
    "    model_type='glove',\n",
    "    model_path='../data/model/glove.6B.300d.txt',\n",
    "    action=\"substitute\"\n",
    ")\n",
    "augmented_text = aug_w2v.augment(data0.title)\n",
    "print(f\"original: {data0.title}\")\n",
    "print(f\"augmented: {augmented_text}\")"
   ]
  },
  {
   "cell_type": "code",
   "execution_count": 10,
   "metadata": {
    "pycharm": {
     "name": "#%%\n"
    }
   },
   "outputs": [
    {
     "data": {
      "text/plain": [
       "'Governors part last Constitution of 1875.'"
      ]
     },
     "execution_count": 10,
     "metadata": {},
     "output_type": "execute_result"
    }
   ],
   "source": [
    "aug_w2v.augment(\"Governors under the Constitution of 1868.\")"
   ]
  },
  {
   "cell_type": "markdown",
   "metadata": {
    "pycharm": {
     "name": "#%% md\n"
    }
   },
   "source": [
    "translation"
   ]
  },
  {
   "cell_type": "code",
   "execution_count": 13,
   "metadata": {
    "pycharm": {
     "name": "#%%\n"
    }
   },
   "outputs": [
    {
     "name": "stdout",
     "output_type": "stream",
     "text": [
      "original: List of Governors of South Carolina. Governors under the Constitution of 1868.\n",
      "huggingface/tokenizers: The current process just got forked, after parallelism has already been used. Disabling parallelism to avoid deadlocks...\n",
      "To disable this warning, you can either:\n",
      "\t- Avoid using `tokenizers` before the fork if possible\n",
      "\t- Explicitly set the environment variable TOKENIZERS_PARALLELISM=(true | false)\n",
      "huggingface/tokenizers: The current process just got forked, after parallelism has already been used. Disabling parallelism to avoid deadlocks...\n",
      "To disable this warning, you can either:\n",
      "\t- Avoid using `tokenizers` before the fork if possible\n",
      "\t- Explicitly set the environment variable TOKENIZERS_PARALLELISM=(true | false)\n"
     ]
    },
    {
     "data": {
      "text/plain": [
       "'List of governors of South Carolina. Governors under the 1868 Constitution.'"
      ]
     },
     "execution_count": 13,
     "metadata": {},
     "output_type": "execute_result"
    }
   ],
   "source": [
    "aug_trans = naw.BackTranslationAug(\n",
    "    from_model_name='facebook/wmt19-en-de', \n",
    "    to_model_name='facebook/wmt19-de-en'\n",
    ")\n",
    "print(f\"original: {data0.title}\")\n",
    "aug_trans.augment(data0.title)"
   ]
  },
  {
   "cell_type": "code",
   "execution_count": null,
   "metadata": {
    "pycharm": {
     "name": "#%%\n"
    }
   },
   "outputs": [],
   "source": []
  }
 ],
 "metadata": {
  "interpreter": {
   "hash": "673e8b50c46d92bffe1f423eb7d8932affd92cc3501f8073197b8832fe70e7f9"
  },
  "kernelspec": {
   "display_name": "Python 3.8.13 ('table')",
   "language": "python",
   "name": "python3"
  },
  "language_info": {
   "codemirror_mode": {
    "name": "ipython",
    "version": 3
   },
   "file_extension": ".py",
   "mimetype": "text/x-python",
   "name": "python",
   "nbconvert_exporter": "python",
   "pygments_lexer": "ipython3",
   "version": "3.8.13"
  }
 },
 "nbformat": 4,
 "nbformat_minor": 0
}